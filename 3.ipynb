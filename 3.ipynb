{
 "cells": [
  {
   "cell_type": "markdown",
   "metadata": {},
   "source": [
    "Непрерывная случайная величина X распределена нормально и задана плотностью распределения f(x) = (1 / (4 * sqrt(2pi))) * exp((-(x+2)**2) / 32) Найдите: а). M(X) б). D(X) в). std(X) (среднее квадратичное отклонение)\n",
    "а). M(X) = 2\n",
    "б). D(X) = 32/2=16\n",
    "в). std(X) (среднее квадратичное отклонение) = 4"
   ]
  }
 ],
 "metadata": {
  "kernelspec": {
   "display_name": "Python 3.7.9 64-bit (microsoft store)",
   "language": "python",
   "name": "python3"
  },
  "language_info": {
   "name": "python",
   "version": "3.7.9"
  },
  "orig_nbformat": 4,
  "vscode": {
   "interpreter": {
    "hash": "e593f02a5728fa750833a73677833482cfec348bfeb031cfd0c36dbe6821e2c6"
   }
  }
 },
 "nbformat": 4,
 "nbformat_minor": 2
}
